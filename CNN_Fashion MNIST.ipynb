{
 "cells": [
  {
   "cell_type": "markdown",
   "metadata": {},
   "source": [
    "<h1>Fashion-MNIST Classification (PyTorch) </h1>"
   ]
  },
  {
   "cell_type": "code",
   "execution_count": 68,
   "metadata": {},
   "outputs": [
    {
     "data": {
      "text/plain": [
       "<torch._C.Generator at 0x7f2420eabe70>"
      ]
     },
     "execution_count": 68,
     "metadata": {},
     "output_type": "execute_result"
    }
   ],
   "source": [
    "# PyTorch and other Modules\n",
    "\n",
    "import numpy as np\n",
    "import matplotlib.pylab as plt\n",
    "from matplotlib.pyplot import imshow\n",
    "from sklearn.metrics import confusion_matrix\n",
    "from PIL import Image\n",
    "\n",
    "import torch \n",
    "import torch.nn as nn\n",
    "import torchvision\n",
    "import torchvision.transforms as transforms\n",
    "import torchvision.datasets as dsets\n",
    "from torch.utils.data import Dataset, DataLoader\n",
    "from torchvision import transforms\n",
    "\n",
    "torch.manual_seed(0)"
   ]
  },
  {
   "cell_type": "code",
   "execution_count": 17,
   "metadata": {},
   "outputs": [],
   "source": [
    "#Hint:\n",
    "\n",
    "IMAGE_SIZE = 28\n",
    "\n",
    "transforms.Resize((IMAGE_SIZE, IMAGE_SIZE)),\n",
    "transforms.ToTensor()#\n",
    "composed = transforms.Compose([transforms.Resize((IMAGE_SIZE, IMAGE_SIZE)), transforms.ToTensor()])"
   ]
  },
  {
   "cell_type": "code",
   "execution_count": 4,
   "metadata": {},
   "outputs": [],
   "source": [
    "dataset_train=dsets.FashionMNIST(root= '.fashion/data', train=True, transform=composed,  download=True)\n",
    "dataset_val=dsets.FashionMNIST(root= '.fashion/data', train=False, transform=composed, download=True)"
   ]
  },
  {
   "cell_type": "code",
   "execution_count": 18,
   "metadata": {},
   "outputs": [],
   "source": [
    "def output_label(label):\n",
    "    output_mapping = {\n",
    "                 0: \"T-shirt/Top\",\n",
    "                 1: \"Trouser\",\n",
    "                 2: \"Pullover\",\n",
    "                 3: \"Dress\",\n",
    "                 4: \"Coat\", \n",
    "                 5: \"Sandal\", \n",
    "                 6: \"Shirt\",\n",
    "                 7: \"Sneaker\",\n",
    "                 8: \"Bag\",\n",
    "                 9: \"Ankle Boot\"\n",
    "                 }\n",
    "    input = (label.item() if type(label) == torch.Tensor else label)\n",
    "    return output_mapping[input]"
   ]
  },
  {
   "cell_type": "code",
   "execution_count": 19,
   "metadata": {},
   "outputs": [
    {
     "data": {
      "text/plain": [
       "60000"
      ]
     },
     "execution_count": 19,
     "metadata": {},
     "output_type": "execute_result"
    }
   ],
   "source": [
    "a = next(iter(train_loader))\n",
    "a[0].size()\n",
    "len(dataset_train)"
   ]
  },
  {
   "cell_type": "code",
   "execution_count": 20,
   "metadata": {},
   "outputs": [
    {
     "name": "stdout",
     "output_type": "stream",
     "text": [
      "9\n"
     ]
    },
    {
     "data": {
      "image/png": "[encoded data removed]",
      "text/plain": [
       "<Figure size 432x288 with 1 Axes>"
      ]
     },
     "metadata": {
      "needs_background": "light"
     },
     "output_type": "display_data"
    }
   ],
   "source": [
    "image, label = next(iter(dataset_train))\n",
    "plt.imshow(image.squeeze(), cmap=\"gray\")\n",
    "print(label)"
   ]
  },
  {
   "cell_type": "code",
   "execution_count": 26,
   "metadata": {},
   "outputs": [
    {
     "name": "stdout",
     "output_type": "stream",
     "text": [
      "<class 'torch.Tensor'> <class 'torch.Tensor'>\n",
      "torch.Size([10, 1, 16, 16]) torch.Size([10])\n",
      "labels:  Ankle Boot, T-shirt/Top, T-shirt/Top, Dress, T-shirt/Top, Pullover, Sneaker, Pullover, Sandal, Sandal, "
     ]
    },
    {
     "data": {
      "image/png": "[encoded data removed]",
      "text/plain": [
       "<Figure size 1080x1440 with 1 Axes>"
      ]
     },
     "metadata": {
      "needs_background": "light"
     },
     "output_type": "display_data"
    }
   ],
   "source": [
    "demo_loader = torch.utils.data.DataLoader(dataset_train, batch_size=10)\n",
    "\n",
    "batch = next(iter(demo_loader))\n",
    "images, labels = batch\n",
    "print(type(images), type(labels))\n",
    "print(images.shape, labels.shape)\n",
    "\n",
    "grid = torchvision.utils.make_grid(images, nrow=10)\n",
    "\n",
    "plt.figure(figsize=(15, 20))\n",
    "plt.imshow(np.transpose(grid, (1, 2, 0)))\n",
    "print(\"labels: \", end=\" \")\n",
    "for i, label in enumerate(labels):\n",
    "    print(output_label(label), end=\", \")"
   ]
  },
  {
   "cell_type": "code",
   "execution_count": 48,
   "metadata": {},
   "outputs": [],
   "source": [
    "class CNN_batch(nn.Module):\n",
    "    \n",
    "    # Contructor\n",
    "    def __init__(self, out_1=32, out_2=64,number_of_classes=10):\n",
    "        super(CNN_batch, self).__init__()\n",
    "        self.cnn1 = nn.Conv2d(in_channels=1, out_channels=out_1, kernel_size=5, padding=2)\n",
    "        self.conv1_bn = nn.BatchNorm2d(out_1)\n",
    "        self.maxpool1=nn.MaxPool2d(kernel_size=2)\n",
    "        \n",
    "        self.cnn2 = nn.Conv2d(in_channels=out_1, out_channels=out_2, kernel_size=5, stride=1, padding=2)\n",
    "        self.conv2_bn = nn.BatchNorm2d(out_2)\n",
    "        self.maxpool2=nn.MaxPool2d(kernel_size=2)\n",
    "        \n",
    "        \n",
    "        self.fc1 = nn.Linear(out_2 * 4 * 4, number_of_classes)\n",
    "        self.bn_fc1 = nn.BatchNorm1d(10)\n",
    "    \n",
    "    # Prediction\n",
    "    def forward(self, x):\n",
    "        x = self.cnn1(x)\n",
    "        x=self.conv1_bn(x)\n",
    "        x = torch.relu(x)\n",
    "        x = self.maxpool1(x)\n",
    "        x = self.cnn2(x)\n",
    "        x=self.conv2_bn(x)\n",
    "        x = torch.relu(x)\n",
    "        x = self.maxpool2(x)\n",
    "        x = x.view(x.size(0), -1)\n",
    "        x = self.fc1(x)\n",
    "        x=self.bn_fc1(x)\n",
    "        return x"
   ]
  },
  {
   "cell_type": "markdown",
   "metadata": {},
   "source": [
    "Constructor  for regular Convolutional Neural Network"
   ]
  },
  {
   "cell_type": "markdown",
   "metadata": {},
   "source": [
    "train loader  and validation loader "
   ]
  },
  {
   "cell_type": "code",
   "execution_count": 28,
   "metadata": {},
   "outputs": [],
   "source": [
    "train_loader = torch.utils.data.DataLoader(dataset=dataset_train, batch_size=100 )\n",
    "test_loader = torch.utils.data.DataLoader(dataset=dataset_val, batch_size=100 )"
   ]
  },
  {
   "cell_type": "markdown",
   "metadata": {},
   "source": [
    "Convolutional Neural Network object "
   ]
  },
  {
   "cell_type": "code",
   "execution_count": 49,
   "metadata": {},
   "outputs": [],
   "source": [
    "# model = CNN(out_1=16, out_2=32,number_of_classes=10)\n",
    "model =CNN_batch(out_1=32, out_2=64,number_of_classes=10)"
   ]
  },
  {
   "cell_type": "markdown",
   "metadata": {},
   "source": [
    "Code used to train the model "
   ]
  },
  {
   "cell_type": "code",
   "execution_count": 78,
   "metadata": {},
   "outputs": [
    {
     "name": "stdout",
     "output_type": "stream",
     "text": [
      "Epoch: 0, Loss: 0.017227184027433395, Accuracy: 0.8998%\n",
      "Epoch: 1, Loss: 0.026706848293542862, Accuracy: 0.9017%\n",
      "Epoch: 2, Loss: 0.03409283235669136, Accuracy: 0.9026%\n",
      "Epoch: 3, Loss: 0.03769439086318016, Accuracy: 0.9038%\n",
      "Epoch: 4, Loss: 0.039492662996053696, Accuracy: 0.9047%\n",
      "CNN_batch(\n",
      "  (cnn1): Conv2d(1, 32, kernel_size=(5, 5), stride=(1, 1), padding=(2, 2))\n",
      "  (conv1_bn): BatchNorm2d(32, eps=1e-05, momentum=0.1, affine=True, track_running_stats=True)\n",
      "  (maxpool1): MaxPool2d(kernel_size=2, stride=2, padding=0, dilation=1, ceil_mode=False)\n",
      "  (cnn2): Conv2d(32, 64, kernel_size=(5, 5), stride=(1, 1), padding=(2, 2))\n",
      "  (conv2_bn): BatchNorm2d(64, eps=1e-05, momentum=0.1, affine=True, track_running_stats=True)\n",
      "  (maxpool2): MaxPool2d(kernel_size=2, stride=2, padding=0, dilation=1, ceil_mode=False)\n",
      "  (fc1): Linear(in_features=1024, out_features=10, bias=True)\n",
      "  (bn_fc1): BatchNorm1d(10, eps=1e-05, momentum=0.1, affine=True, track_running_stats=True)\n",
      ")\n"
     ]
    }
   ],
   "source": [
    "import time\n",
    "start_time = time.time()\n",
    "\n",
    "cost_list=[]\n",
    "accuracy_list=[]\n",
    "loss_list=[]\n",
    "predictions_list=[]\n",
    "labels_list=[]\n",
    "\n",
    "N_test=len(dataset_val)\n",
    "learning_rate =0.001\n",
    "optimizer = torch.optim.SGD(model.parameters(), lr = learning_rate)\n",
    "criterion = nn.CrossEntropyLoss()\n",
    "n_epochs=5\n",
    "for epoch in range(n_epochs):\n",
    "    cost=0\n",
    "    model.train()\n",
    "    for x, y in train_loader:\n",
    "        optimizer.zero_grad()\n",
    "        z = model(x)\n",
    "        loss = criterion(z, y)\n",
    "        loss.backward()\n",
    "        optimizer.step()\n",
    "        cost+=loss.item()\n",
    "    correct=0\n",
    "    #perform a prediction on the validation  data \n",
    "    model.eval()\n",
    "    for x_test, y_test in test_loader:\n",
    "        z = model(x_test)\n",
    "        _, yhat = torch.max(z.data, 1)\n",
    "        correct += (yhat == y_test).sum().item()\n",
    "        labels_list.append(y_test)\n",
    "        predictions_list.append(yhat)\n",
    "    accuracy = correct / N_test\n",
    "    accuracy_list.append(accuracy)\n",
    "    loss_list.append(loss.data)\n",
    "    cost_list.append(cost)\n",
    "    print(\"Epoch: {}, Loss: {}, Accuracy: {}%\".format(epoch, loss.data, accuracy))\n",
    "    \n",
    "print(model)"
   ]
  },
  {
   "cell_type": "markdown",
   "metadata": {},
   "source": [
    "You will use the following to plot the Cost and accuracy for each epoch for the training and testing data, respectively. "
   ]
  },
  {
   "cell_type": "code",
   "execution_count": 79,
   "metadata": {},
   "outputs": [
    {
     "data": {
      "image/png": "[encoded data removed]",
      "text/plain": [
       "<Figure size 432x288 with 2 Axes>"
      ]
     },
     "metadata": {
      "needs_background": "light"
     },
     "output_type": "display_data"
    }
   ],
   "source": [
    "fig, ax1 = plt.subplots()\n",
    "color = 'tab:red'\n",
    "ax1.plot(cost_list, color=color)\n",
    "ax1.set_xlabel('epoch', color=color)\n",
    "ax1.set_ylabel('Cost', color=color)\n",
    "ax1.tick_params(axis='y', color=color)\n",
    "    \n",
    "ax2 = ax1.twinx()  \n",
    "color = 'tab:blue'\n",
    "ax2.set_ylabel('accuracy', color=color) \n",
    "ax2.set_xlabel('epoch', color=color)\n",
    "ax2.plot( accuracy_list, color=color)\n",
    "ax2.tick_params(axis='y', color=color)\n",
    "fig.tight_layout()"
   ]
  },
  {
   "cell_type": "code",
   "execution_count": 80,
   "metadata": {},
   "outputs": [
    {
     "name": "stdout",
     "output_type": "stream",
     "text": [
      "Classification report for CNN :\n",
      "              precision    recall  f1-score   support\n",
      "\n",
      "           0       0.83      0.86      0.85      5000\n",
      "           1       0.99      0.98      0.99      5000\n",
      "           2       0.84      0.83      0.83      5000\n",
      "           3       0.89      0.91      0.90      5000\n",
      "           4       0.83      0.84      0.83      5000\n",
      "           5       0.98      0.97      0.98      5000\n",
      "           6       0.76      0.72      0.74      5000\n",
      "           7       0.95      0.97      0.96      5000\n",
      "           8       0.98      0.98      0.98      5000\n",
      "           9       0.97      0.96      0.96      5000\n",
      "\n",
      "    accuracy                           0.90     50000\n",
      "   macro avg       0.90      0.90      0.90     50000\n",
      "weighted avg       0.90      0.90      0.90     50000\n",
      "\n",
      "\n"
     ]
    }
   ],
   "source": [
    "from itertools import chain \n",
    "\n",
    "predictions_l = [predictions_list[i].tolist() for i in range(len(predictions_list))]\n",
    "labels_l = [labels_list[i].tolist() for i in range(len(labels_list))]\n",
    "predictions_l = list(chain.from_iterable(predictions_l))\n",
    "labels_l = list(chain.from_iterable(labels_l))\n",
    "# print(labels_l.shape)\n",
    "\n",
    "import sklearn.metrics as metrics\n",
    "\n",
    "confusion_matrix(labels_l, predictions_l)\n",
    "print(\"Classification report for CNN :\\n%s\\n\"\n",
    "      % (metrics.classification_report(labels_l, predictions_l)))"
   ]
  },
  {
   "cell_type": "code",
   "execution_count": 102,
   "metadata": {},
   "outputs": [
    {
     "name": "stdout",
     "output_type": "stream",
     "text": [
      "tensor([[ 1.5117e+01, -4.7002e+00,  3.9541e+00, -4.2363e+00, -5.5402e+00,\n",
      "         -2.2260e+00,  5.2197e-01, -9.8186e+00, -5.2352e+00, -1.7464e+00],\n",
      "        [ 1.6063e+00,  1.0824e+01,  6.8543e-01, -2.3809e+00, -1.8499e+00,\n",
      "          1.1234e+00, -1.6657e+00,  1.4930e+00,  3.0546e-01, -1.8466e+00],\n",
      "        [ 3.8038e-01,  4.3610e+00, -1.5054e+00,  6.0016e+00, -5.3693e+00,\n",
      "         -2.1611e+00,  7.8251e-01,  5.6012e-01, -3.7720e+00, -3.8370e+00],\n",
      "        [-8.8263e+00,  1.9502e+00,  1.8623e+00,  2.8656e+00, -7.2012e+00,\n",
      "          1.6978e+01,  4.8063e+00,  1.0468e+00, -3.2556e+00, -1.9658e-01],\n",
      "        [ 5.4061e+00, -1.0212e+00, -2.9814e+00, -4.7779e+00, -3.1683e+00,\n",
      "         -4.5984e+00,  5.7984e+00, -2.7345e+00, -1.3813e+00, -4.2874e+00],\n",
      "        [ 8.3717e+00, -2.6422e+00,  2.5705e+00, -5.4840e+00, -7.2923e+00,\n",
      "         -5.7971e+00,  2.1482e+00, -3.1940e+00, -1.9469e+00, -3.2704e+00],\n",
      "        [ 9.8195e+00, -8.0906e-01, -2.6842e+00,  2.5854e+00, -3.9755e+00,\n",
      "          2.6658e+00,  7.9979e+00, -6.2091e+00, -3.5126e+00, -5.4437e-01],\n",
      "        [ 3.1593e+00, -3.5415e+00, -9.0523e-01, -4.6956e+00, -4.7495e+00,\n",
      "          2.2443e+00,  2.4491e+00,  1.7696e-01, -3.4089e+00,  1.5548e+01],\n",
      "        [-1.8359e+00, -4.1629e+00,  6.4258e+00, -6.8349e+00, -1.2753e+00,\n",
      "         -5.0255e+00,  8.3202e-01, -2.4441e+00, -7.9039e+00, -4.4406e+00],\n",
      "        [-1.9490e+00,  7.4728e-01, -4.1898e+00, -1.4966e+00, -2.8178e-01,\n",
      "         -4.2003e+00, -2.8947e+00,  2.7789e+00, -2.6856e+00,  1.0358e+01],\n",
      "        [ 2.0536e-01, -1.8402e-01, -1.8304e+00,  1.2627e+01, -1.1375e+00,\n",
      "         -1.7265e+00, -3.3368e+00, -8.2386e-01, -1.3926e+00, -3.1586e+00],\n",
      "        [ 6.6993e+00, -3.4299e+00,  1.3996e+00,  3.6741e+00, -6.3705e+00,\n",
      "         -1.5064e+00,  3.2854e+00, -3.8926e+00, -4.4154e+00, -1.5564e-01],\n",
      "        [-1.6800e+00, -2.6943e+00,  9.4694e+00, -1.1139e+00, -2.3158e+00,\n",
      "         -2.6351e+00,  1.4701e-01, -5.2037e+00, -2.8833e+00, -2.0795e+00],\n",
      "        [ 2.7385e-01, -1.8508e+00, -2.7407e+00, -6.6113e+00, -4.3224e+00,\n",
      "         -3.6800e+00,  7.5319e+00, -1.4940e+00,  9.4469e+00, -3.1154e-01],\n",
      "        [-3.1196e+00,  8.8200e+00,  1.2936e+00,  7.8156e-01, -2.7804e-01,\n",
      "          1.4403e-01,  1.3391e+00, -2.6622e+00, -1.6922e+00, -2.8364e-01],\n",
      "        [-2.4242e-01,  1.2177e+01,  1.4921e-01, -1.3898e+00,  1.0538e+00,\n",
      "          4.0254e-01,  1.4900e+00,  4.2682e-01, -2.1497e+00, -3.7121e+00],\n",
      "        [-5.3545e+00, -5.2295e+00, -3.8996e+00,  4.7160e+00,  8.6186e+00,\n",
      "         -3.7716e+00,  1.0922e+00, -3.5816e+00, -1.4180e+00, -1.7235e+00],\n",
      "        [-1.9192e+00, -6.7934e+00,  7.3814e+00, -7.7598e+00,  3.7315e-01,\n",
      "         -3.3747e+00,  2.0690e+00, -3.3038e+00, -3.1331e-03, -3.1141e+00],\n",
      "        [-1.5902e+00,  1.3327e+01,  8.6575e-01, -1.2548e-01, -8.5306e-01,\n",
      "         -1.5265e+00,  3.3826e+00,  1.4859e-01,  2.8673e+00, -8.6875e-02],\n",
      "        [-3.2369e+00, -2.4587e+00,  4.6703e+00, -3.1138e+00, -5.0594e+00,\n",
      "         -3.0199e+00, -2.8497e+00, -8.9894e-02,  1.0176e+01,  9.4973e-01],\n",
      "        [-1.1723e+00, -2.2128e+00, -2.1125e+00, -2.3871e+00,  1.7230e-01,\n",
      "         -1.9886e+00, -1.5744e+00, -5.0972e+00, -1.6608e+00,  1.3711e+01],\n",
      "        [-4.5899e+00, -6.1553e-01,  5.2411e+00, -2.4344e+00,  1.6190e+01,\n",
      "         -1.4048e+00, -8.7510e-01,  7.4494e-01, -3.0545e-01, -2.6262e-01],\n",
      "        [ 1.0174e+01, -2.1896e+00, -4.8020e-01, -8.7150e-01, -2.6456e+00,\n",
      "         -2.3316e+00,  5.8687e+00, -1.0034e+00, -4.9964e+00, -3.2304e+00],\n",
      "        [ 4.8779e-01,  3.8645e-01, -1.9797e+00, -2.2303e+00, -3.6797e+00,\n",
      "         -2.6683e+00,  2.3390e+00, -2.9638e+00,  8.3432e+00,  1.2360e+00],\n",
      "        [ 1.2663e+01, -1.9703e+00,  1.8629e+00, -1.2617e+00, -1.5439e+00,\n",
      "          2.2725e+00,  1.8245e+00, -2.9488e+00, -4.3832e+00, -1.6229e+00],\n",
      "        [ 2.4829e+00,  1.1570e+01,  6.5336e-01,  1.6935e-01, -2.3735e+00,\n",
      "         -9.6632e-01, -1.0595e+00,  5.6215e-01, -1.9665e-01, -4.1264e+00],\n",
      "        [-4.9987e+00, -1.8655e+00, -2.5638e+00,  7.6050e+00, -1.9963e+00,\n",
      "         -1.9491e+00,  1.1354e+00, -1.1474e+00, -9.8839e-01, -1.4492e+00],\n",
      "        [ 1.8648e+00,  1.0679e+00, -3.1726e+00, -2.6538e+00, -4.3334e+00,\n",
      "          1.0813e+01, -1.7090e+00, -1.2091e+00, -1.8338e+00,  7.4174e-01],\n",
      "        [ 3.6409e+00, -1.0373e+00,  3.0258e+00,  7.3125e+00, -5.0559e+00,\n",
      "         -7.1300e-01, -1.7514e+00, -2.9398e+00, -1.3562e+00, -2.6384e+00],\n",
      "        [-1.4787e+00,  2.3399e-01, -9.8339e-01, -2.8785e+00,  2.1434e+00,\n",
      "         -3.0439e+00,  6.2504e+00,  5.3220e-01,  1.1800e+01, -5.8060e-01],\n",
      "        [-9.4398e-01, -3.2569e-01,  3.9491e+00, -2.2883e+00,  1.0795e+01,\n",
      "         -2.0551e+00,  8.7436e-01, -6.3629e-01, -3.8546e-02,  2.8140e-01],\n",
      "        [-1.5593e+00,  1.0513e+01, -6.2183e-01, -8.1603e-01, -1.0854e-01,\n",
      "         -4.2466e-01,  9.7911e-01,  3.5381e+00, -6.8826e-01, -3.0426e+00],\n",
      "        [-4.9175e+00,  1.5337e+00, -3.0826e+00, -2.8179e+00, -7.1918e-01,\n",
      "          1.5063e+00, -7.1295e-01, -2.4896e+00, -3.1738e+00,  1.3861e+01],\n",
      "        [ 1.0222e+01, -6.4609e-01, -6.9768e-01,  2.6304e+00, -3.4354e+00,\n",
      "          1.3700e+00,  1.9521e+00, -3.3282e+00, -2.9080e+00, -6.1227e-01],\n",
      "        [ 8.8408e+00, -3.1179e+00, -7.3081e-02,  1.1958e+00,  3.7406e+00,\n",
      "          1.1164e-01,  6.2015e-01, -4.7881e+00, -2.4798e+00,  3.0616e-02],\n",
      "        [-2.4094e+00, -2.2132e+00,  4.9717e-01,  1.2875e+01,  1.9093e+00,\n",
      "          8.7475e-01, -4.5589e+00, -2.1616e+00, -5.3340e-01, -1.7279e+00],\n",
      "        [-2.6554e+00,  1.2897e+01,  4.0090e+00, -4.3074e+00, -5.6116e-01,\n",
      "          1.5458e+00,  6.8294e-01,  4.4466e-01, -3.3810e+00, -3.2692e+00],\n",
      "        [ 3.4445e+00,  2.1386e+00,  8.9556e+00, -9.5484e-01, -2.8082e+00,\n",
      "         -1.4572e+00, -7.5635e-01, -3.9582e+00, -7.4774e+00, -9.4038e+00],\n",
      "        [ 3.5541e+00,  1.1288e+01,  5.6049e+00, -7.0793e-01, -3.3077e-01,\n",
      "         -8.9404e-01, -2.0553e+00,  9.7339e-01, -7.7855e-01,  8.0253e-02],\n",
      "        [-4.0450e+00, -4.4129e+00,  5.7452e-01, -2.7231e+00,  1.0077e+00,\n",
      "         -3.6847e+00, -9.8964e-01,  1.0295e+01, -2.6375e+00,  6.6300e+00],\n",
      "        [-9.2323e-01, -1.8324e+00, -3.5031e+00, -1.3536e+00, -3.3833e+00,\n",
      "         -3.4206e+00, -1.2836e+00,  1.1211e+01, -2.4826e+00, -2.9537e+00],\n",
      "        [-5.1278e+00, -1.8476e+00, -6.4002e-01,  7.6585e-01, -3.8390e+00,\n",
      "          1.4237e+01, -7.0871e-01, -6.9808e+00, -2.7382e+00, -9.1502e-01],\n",
      "        [-5.5115e-01, -1.6330e+00,  6.3509e-02,  2.3378e+00,  6.2306e+00,\n",
      "         -1.0169e+00,  4.0628e+00,  3.0390e+00,  7.5063e+00, -3.1073e+00],\n",
      "        [ 1.0532e+01, -1.7503e+00, -1.7246e+00, -2.0031e+00,  2.3161e+00,\n",
      "          4.9375e-01,  3.3512e-01, -2.1042e+00, -2.5810e+00, -9.6964e-02],\n",
      "        [ 4.1480e-01, -2.3442e+00,  1.1665e+01,  1.1506e+00, -1.5856e+00,\n",
      "         -2.8481e+00,  1.1067e+00, -5.9426e-01, -1.8213e-01, -1.2293e+00],\n",
      "        [-3.2705e-01, -2.1083e+00,  1.1161e+01, -1.3452e+00,  1.8740e+00,\n",
      "         -4.6726e+00, -9.3629e-01,  4.1248e-01, -2.2388e+00, -7.9357e-01],\n",
      "        [ 1.9493e+00,  1.0220e+01, -7.2384e-01,  1.0203e+00, -9.6093e-01,\n",
      "         -3.7966e-01,  7.1277e-01,  1.2515e+00, -2.3658e+00, -3.6115e+00],\n",
      "        [-1.9746e+00, -6.2812e+00, -4.1424e+00,  9.1331e+00,  6.6350e+00,\n",
      "         -4.1340e+00, -7.5862e-01, -4.4928e+00, -1.2383e+00, -1.2417e+00],\n",
      "        [-2.0191e+00, -3.3414e+00,  8.7026e-03, -7.7742e-01, -2.0636e+00,\n",
      "          2.2565e+00,  2.0951e+00, -9.8563e-01,  1.0031e+01, -4.2138e+00],\n",
      "        [ 2.9714e+00,  5.1838e+00,  1.5349e-01, -8.9907e-01, -2.6002e+00,\n",
      "         -4.8071e+00,  2.7646e+00,  1.8471e-01,  7.1972e+00,  9.3889e-01],\n",
      "        [-2.0843e+00, -3.3768e+00, -1.1505e+00, -5.7406e-01,  1.9367e+00,\n",
      "         -2.8587e+00,  9.0199e+00, -8.0140e-01, -3.0917e+00, -2.8980e+00],\n",
      "        [-1.4394e+00, -2.5529e+00, -3.6559e+00, -7.5982e-01, -4.6046e+00,\n",
      "         -2.6784e+00,  6.8119e-01,  1.0235e+01, -1.3659e+00, -2.0153e+00],\n",
      "        [-3.5814e+00, -2.7094e+00,  9.9099e+00,  2.1067e+00, -3.7443e-01,\n",
      "         -1.6127e+00,  4.7816e+00, -1.6198e+00, -2.3311e+00,  9.4101e-01],\n",
      "        [ 1.4276e+00, -9.8209e+00,  1.0800e+01, -1.5899e+00,  4.2450e+00,\n",
      "         -1.2210e+00, -1.7289e+00, -6.3707e+00,  2.2174e+00, -3.5219e+00],\n",
      "        [ 6.5218e+00,  3.3465e+00, -1.4711e+00,  9.6505e+00,  1.4357e+00,\n",
      "          1.6887e+00, -6.4531e+00, -2.8952e-01,  1.0195e+00, -3.9248e+00],\n",
      "        [-1.7958e+00,  8.3220e-02, -2.2520e+00, -6.9738e-01, -2.3328e+00,\n",
      "          7.4715e+00, -3.9757e+00,  4.4902e+00, -1.3446e+00, -1.7451e+00],\n",
      "        [-2.3213e+00,  1.8403e+01,  4.4110e-01, -3.4218e+00,  2.1041e+00,\n",
      "         -4.7812e+00,  1.6770e+00,  8.8887e-01,  1.4222e+00, -4.6871e+00],\n",
      "        [ 4.8376e-01, -3.6229e+00,  1.2975e+01, -3.2889e+00, -4.9364e+00,\n",
      "         -1.6903e+00,  8.9833e-01, -4.2466e+00, -6.3015e+00, -4.5172e+00],\n",
      "        [-1.8029e+00, -2.2816e+00,  8.0646e+00,  2.5823e+00,  6.5004e-02,\n",
      "         -1.5867e+00,  2.9487e+00,  4.2688e-01,  1.9814e-01, -1.9375e+00],\n",
      "        [-4.1043e+00,  3.3635e-01,  2.3721e+00, -2.4680e+00,  1.5776e+01,\n",
      "         -9.4830e-01, -7.2264e-01,  4.0087e+00, -1.4929e+00, -9.0965e-01],\n",
      "        [-2.0150e+00,  1.3737e+00, -2.4901e+00,  1.1456e+01, -1.2766e+00,\n",
      "         -3.3769e+00, -6.8917e-01, -5.6774e+00, -3.1317e+00, -2.0339e+00],\n",
      "        [-5.0686e+00, -5.7456e+00, -4.6701e+00, -1.6009e+00,  1.9035e+00,\n",
      "         -6.5608e+00,  6.6599e+00, -6.6603e-01, -3.6759e+00, -3.5870e+00],\n",
      "        [-9.8302e+00, -6.1795e+00, -4.8861e+00,  5.1067e+00, -1.0959e+00,\n",
      "         -3.9350e+00,  5.4359e+00, -4.6468e+00,  1.1909e+01, -1.1718e+00],\n",
      "        [-3.4795e+00, -1.1859e+00,  7.2906e+00, -2.1305e+00,  1.1154e+01,\n",
      "         -2.9150e+00,  2.7231e+00,  1.5335e-01, -2.1767e+00, -1.8283e+00],\n",
      "        [ 2.1037e+00, -3.1438e+00,  7.5075e+00, -1.0939e+00, -2.7340e+00,\n",
      "         -3.5481e+00, -3.5332e-02, -1.7765e+00, -1.4338e+00, -2.8880e+00],\n",
      "        [ 1.1260e+01, -8.7155e-01, -2.6424e+00,  2.3826e+00, -4.5229e+00,\n",
      "         -1.2759e+00,  6.0288e+00, -3.0143e+00, -1.2214e+00,  2.5857e-01],\n",
      "        [ 1.8376e+00,  6.5508e-01, -1.9171e+00,  8.5362e+00, -1.3691e+00,\n",
      "         -3.1495e+00, -3.2155e+00,  2.3493e+00,  5.0661e-01, -3.2813e+00],\n",
      "        [ 7.5981e-01,  3.5427e+00, -1.6071e+00,  1.5469e+00, -1.4105e-01,\n",
      "          1.8199e+00,  3.2527e-01,  1.0071e+00,  1.5627e+01, -4.9920e+00],\n",
      "        [ 8.5573e-01, -4.6689e+00,  8.9706e+00, -1.8350e+00, -5.3265e-01,\n",
      "         -7.0848e-01,  8.4348e+00, -8.6567e-01, -3.1429e+00, -2.0974e+00],\n",
      "        [ 6.8254e+00, -4.8846e+00,  2.5097e-02,  3.3420e-01, -6.5724e+00,\n",
      "         -3.1841e+00,  1.1010e+01, -2.6057e+00, -4.1981e+00, -1.5654e+00],\n",
      "        [-2.3090e+00,  2.7417e-01, -1.2216e+00, -6.2351e+00, -1.8905e+00,\n",
      "         -4.2128e+00, -4.4538e+00,  1.5274e+00, -3.4678e+00,  1.0616e+01],\n",
      "        [-4.9298e+00, -3.9476e+00, -4.9332e+00,  9.4350e+00,  3.5991e+00,\n",
      "         -3.5101e+00, -2.4814e+00, -4.4017e+00,  1.5374e+00, -4.3567e+00],\n",
      "        [-3.1501e+00,  4.1557e-01, -6.8747e+00, -3.7166e+00,  9.4658e-01,\n",
      "          1.3549e+01,  9.8997e-01, -6.4059e+00,  4.6238e-02,  2.3450e+00],\n",
      "        [-1.9905e+00, -1.9675e+00,  6.5833e+00, -6.0692e-01,  2.1901e+00,\n",
      "         -7.2032e-01,  6.1631e+00,  1.4407e+00, -3.2347e+00, -2.4126e+00],\n",
      "        [ 1.1265e+01, -4.7706e+00,  4.0953e+00, -7.0681e+00,  1.9794e+00,\n",
      "         -4.1106e+00,  3.9128e+00, -2.8952e+00, -4.4883e+00, -2.7307e+00],\n",
      "        [-1.7187e+00,  2.0244e+00,  5.4040e+00, -8.8784e-01,  1.1353e+01,\n",
      "         -1.3379e+00, -9.3059e-01, -9.1859e-01, -3.1237e+00, -4.6207e-01],\n",
      "        [-3.0663e+00, -2.7343e+00,  4.5388e+00, -2.0750e+00,  9.8227e+00,\n",
      "         -1.9242e+00,  1.3732e+00, -2.0194e+00, -4.3802e+00, -1.8617e+00],\n",
      "        [ 1.4908e+00, -9.5537e-01,  1.1295e+01, -2.6873e+00,  1.3176e+00,\n",
      "         -2.4949e+00,  1.6718e+00, -1.9170e+00, -9.2128e-01,  5.7643e-01],\n",
      "        [ 4.9109e+00, -3.1340e+00, -3.7708e+00, -6.4578e+00, -1.6486e+00,\n",
      "         -3.6196e-01, -1.0244e+00, -2.0746e-01, -3.7790e+00,  1.0566e+01],\n",
      "        [ 1.3104e+00, -2.6353e+00,  1.6102e+00,  2.1954e+00, -7.2106e+00,\n",
      "         -2.9203e+00, -4.9288e+00,  9.7520e+00, -2.0770e+00,  7.0580e+00],\n",
      "        [-1.3638e+00, -8.9776e-01, -7.0727e-01,  1.2084e+01, -2.7587e-01,\n",
      "          9.8178e-01, -2.8292e+00, -1.9717e-01,  8.5029e-01, -3.8756e+00],\n",
      "        [ 9.7246e+00, -5.0693e+00,  8.2638e+00, -7.8204e+00, -1.4162e+00,\n",
      "         -3.3270e+00,  6.3816e+00, -6.8521e+00, -5.7410e+00,  1.6137e+00],\n",
      "        [-5.0306e+00, -3.1658e+00, -2.7922e+00,  7.2935e-01,  1.1846e+01,\n",
      "         -5.6962e+00,  5.3937e+00,  8.8230e-01, -2.2194e+00, -5.6338e+00],\n",
      "        [-2.5709e+00, -3.0588e+00, -3.7318e+00, -5.3017e-01, -2.8510e+00,\n",
      "          1.2827e+01, -1.2986e+00, -3.3717e+00, -2.3522e+00,  2.9273e-01],\n",
      "        [-2.2544e+00,  7.3901e-01, -2.9273e+00, -1.1629e+00,  7.8662e+00,\n",
      "         -1.8806e+00, -6.5662e-01, -1.0800e+00, -1.3707e+00,  7.2962e-01],\n",
      "        [ 1.3412e+01,  5.3517e-01, -1.6637e+00, -5.7080e+00, -1.1877e+00,\n",
      "         -9.5100e-02,  6.0621e+00, -4.6039e+00, -2.6668e+00, -1.1759e+00],\n",
      "        [-2.1651e+00, -2.7494e+00,  4.4205e+00, -2.1823e+00,  1.2017e+01,\n",
      "         -7.0007e-01, -1.1640e+00, -6.0245e-01, -1.3632e-01, -2.6182e-01],\n",
      "        [ 7.1500e+00, -1.2654e+00, -4.2378e+00, -4.3297e+00, -1.9960e-01,\n",
      "         -1.4482e+00,  1.1641e+01, -1.7681e+00, -3.8141e+00,  2.8591e-01],\n",
      "        [-3.1605e+00, -2.2731e+00,  3.3977e+00,  5.5050e-01,  1.3524e-01,\n",
      "         -3.3231e+00,  1.0037e+01,  3.4682e-01, -3.8493e+00, -2.5314e+00],\n",
      "        [ 2.9240e-01,  1.4263e+01, -3.0413e-02, -1.8235e+00,  3.3473e-01,\n",
      "         -9.7394e-01, -2.5248e-01,  1.8938e+00, -1.9987e+00, -1.4434e+00],\n",
      "        [-8.5314e-01, -3.3509e+00,  7.1414e+00, -1.5420e+00,  1.0687e+01,\n",
      "         -2.7999e+00, -5.2725e+00, -3.5886e-01, -2.1921e+00, -1.3931e+00],\n",
      "        [-4.6566e-02,  1.0286e+01,  7.4590e-01, -3.3709e+00, -2.2838e-01,\n",
      "          7.1986e-01, -1.8314e+00,  1.6976e+00, -1.8185e+00, -1.8364e+00],\n",
      "        [-1.4183e+00, -2.7758e+00, -5.3754e+00, -1.7963e+00, -1.4564e+00,\n",
      "          4.6419e-01, -2.8965e+00,  1.0880e+01, -3.2766e+00,  1.9722e-03],\n",
      "        [ 2.8793e+00, -3.7398e+00,  1.0601e+01, -4.7753e+00,  4.8822e+00,\n",
      "         -1.2075e+00, -2.9685e+00, -1.5131e+00, -3.6580e+00, -4.4601e+00],\n",
      "        [-1.2619e+00,  1.3534e+00, -8.3124e-01,  2.2768e+00,  2.6780e+00,\n",
      "         -1.4960e+00, -1.9129e+00,  3.5858e-01,  1.5192e+01,  1.3315e+00],\n",
      "        [-2.4749e+00, -9.8417e-02, -4.7681e+00,  1.5635e+00,  3.1805e+00,\n",
      "          1.4658e+01,  4.6482e-01, -2.4313e+00,  4.3153e+00, -5.4638e+00],\n",
      "        [ 7.4618e-01,  1.2755e+01, -3.0800e+00, -1.7138e+00, -2.9981e+00,\n",
      "         -3.2187e-01, -4.9531e-02,  2.9645e+00,  3.5783e-01, -1.2215e+00],\n",
      "        [-2.2260e-01, -2.9221e+00, -4.3087e-01,  1.5471e+01, -1.0591e+01,\n",
      "          1.4633e+00, -7.5564e-01, -1.1078e+00,  4.5888e+00, -3.8910e+00],\n",
      "        [ 1.0870e+01, -3.3302e+00,  1.4231e+00, -2.8960e+00, -3.0387e+00,\n",
      "         -3.5844e+00, -1.8574e+00, -2.7236e+00, -4.2473e+00, -3.1926e+00],\n",
      "        [-7.5982e+00, -2.0274e+00, -1.5231e+00, -2.2716e+00,  5.5478e-01,\n",
      "          1.1183e+01, -2.4475e+00,  3.2722e+00, -1.4850e-01, -1.7785e+00]],\n",
      "       grad_fn=<NativeBatchNormBackward>)\n"
     ]
    },
    {
     "ename": "RuntimeError",
     "evalue": "Can't call numpy() on Variable that requires grad. Use var.detach().numpy() instead.",
     "output_type": "error",
     "traceback": [
      "\u001b[0;31m---------------------------------------------------------------------------\u001b[0m",
      "\u001b[0;31mTypeError\u001b[0m                                 Traceback (most recent call last)",
      "\u001b[0;32m/usr/local/lib/python3.6/dist-packages/numpy/core/fromnumeric.py\u001b[0m in \u001b[0;36m_wrapfunc\u001b[0;34m(obj, method, *args, **kwds)\u001b[0m\n\u001b[1;32m     55\u001b[0m     \u001b[0;32mtry\u001b[0m\u001b[0;34m:\u001b[0m\u001b[0;34m\u001b[0m\u001b[0;34m\u001b[0m\u001b[0m\n\u001b[0;32m---> 56\u001b[0;31m         \u001b[0;32mreturn\u001b[0m \u001b[0mgetattr\u001b[0m\u001b[0;34m(\u001b[0m\u001b[0mobj\u001b[0m\u001b[0;34m,\u001b[0m \u001b[0mmethod\u001b[0m\u001b[0;34m)\u001b[0m\u001b[0;34m(\u001b[0m\u001b[0;34m*\u001b[0m\u001b[0margs\u001b[0m\u001b[0;34m,\u001b[0m \u001b[0;34m**\u001b[0m\u001b[0mkwds\u001b[0m\u001b[0;34m)\u001b[0m\u001b[0;34m\u001b[0m\u001b[0;34m\u001b[0m\u001b[0m\n\u001b[0m\u001b[1;32m     57\u001b[0m \u001b[0;34m\u001b[0m\u001b[0m\n",
      "\u001b[0;31mTypeError\u001b[0m: argmax() got an unexpected keyword argument 'axis'",
      "\nDuring handling of the above exception, another exception occurred:\n",
      "\u001b[0;31mRuntimeError\u001b[0m                              Traceback (most recent call last)",
      "\u001b[0;32m<ipython-input-102-77826f087655>\u001b[0m in \u001b[0;36m<module>\u001b[0;34m\u001b[0m\n\u001b[1;32m      1\u001b[0m \u001b[0mlabels\u001b[0m \u001b[0;34m=\u001b[0m \u001b[0mmodel\u001b[0m\u001b[0;34m(\u001b[0m\u001b[0mx\u001b[0m\u001b[0;34m)\u001b[0m\u001b[0;34m\u001b[0m\u001b[0;34m\u001b[0m\u001b[0m\n\u001b[1;32m      2\u001b[0m \u001b[0mprint\u001b[0m\u001b[0;34m(\u001b[0m\u001b[0mlabels\u001b[0m\u001b[0;34m)\u001b[0m\u001b[0;34m\u001b[0m\u001b[0;34m\u001b[0m\u001b[0m\n\u001b[0;32m----> 3\u001b[0;31m \u001b[0mlabel\u001b[0m \u001b[0;34m=\u001b[0m \u001b[0;34m[\u001b[0m\u001b[0mnp\u001b[0m\u001b[0;34m.\u001b[0m\u001b[0margmax\u001b[0m\u001b[0;34m(\u001b[0m\u001b[0mi\u001b[0m\u001b[0;34m)\u001b[0m \u001b[0;32mfor\u001b[0m \u001b[0mi\u001b[0m \u001b[0;32min\u001b[0m \u001b[0mlabels\u001b[0m\u001b[0;34m]\u001b[0m\u001b[0;34m\u001b[0m\u001b[0;34m\u001b[0m\u001b[0m\n\u001b[0m\u001b[1;32m      4\u001b[0m \u001b[0;31m# class_label = [inverse_map[x] for x in label]\u001b[0m\u001b[0;34m\u001b[0m\u001b[0;34m\u001b[0m\u001b[0;34m\u001b[0m\u001b[0m\n\u001b[1;32m      5\u001b[0m \u001b[0;31m# print(class_label[:3])\u001b[0m\u001b[0;34m\u001b[0m\u001b[0;34m\u001b[0m\u001b[0;34m\u001b[0m\u001b[0m\n",
      "\u001b[0;32m<ipython-input-102-77826f087655>\u001b[0m in \u001b[0;36m<listcomp>\u001b[0;34m(.0)\u001b[0m\n\u001b[1;32m      1\u001b[0m \u001b[0mlabels\u001b[0m \u001b[0;34m=\u001b[0m \u001b[0mmodel\u001b[0m\u001b[0;34m(\u001b[0m\u001b[0mx\u001b[0m\u001b[0;34m)\u001b[0m\u001b[0;34m\u001b[0m\u001b[0;34m\u001b[0m\u001b[0m\n\u001b[1;32m      2\u001b[0m \u001b[0mprint\u001b[0m\u001b[0;34m(\u001b[0m\u001b[0mlabels\u001b[0m\u001b[0;34m)\u001b[0m\u001b[0;34m\u001b[0m\u001b[0;34m\u001b[0m\u001b[0m\n\u001b[0;32m----> 3\u001b[0;31m \u001b[0mlabel\u001b[0m \u001b[0;34m=\u001b[0m \u001b[0;34m[\u001b[0m\u001b[0mnp\u001b[0m\u001b[0;34m.\u001b[0m\u001b[0margmax\u001b[0m\u001b[0;34m(\u001b[0m\u001b[0mi\u001b[0m\u001b[0;34m)\u001b[0m \u001b[0;32mfor\u001b[0m \u001b[0mi\u001b[0m \u001b[0;32min\u001b[0m \u001b[0mlabels\u001b[0m\u001b[0;34m]\u001b[0m\u001b[0;34m\u001b[0m\u001b[0;34m\u001b[0m\u001b[0m\n\u001b[0m\u001b[1;32m      4\u001b[0m \u001b[0;31m# class_label = [inverse_map[x] for x in label]\u001b[0m\u001b[0;34m\u001b[0m\u001b[0;34m\u001b[0m\u001b[0;34m\u001b[0m\u001b[0m\n\u001b[1;32m      5\u001b[0m \u001b[0;31m# print(class_label[:3])\u001b[0m\u001b[0;34m\u001b[0m\u001b[0;34m\u001b[0m\u001b[0;34m\u001b[0m\u001b[0m\n",
      "\u001b[0;32m/usr/local/lib/python3.6/dist-packages/numpy/core/fromnumeric.py\u001b[0m in \u001b[0;36margmax\u001b[0;34m(a, axis, out)\u001b[0m\n\u001b[1;32m   1101\u001b[0m \u001b[0;34m\u001b[0m\u001b[0m\n\u001b[1;32m   1102\u001b[0m     \"\"\"\n\u001b[0;32m-> 1103\u001b[0;31m     \u001b[0;32mreturn\u001b[0m \u001b[0m_wrapfunc\u001b[0m\u001b[0;34m(\u001b[0m\u001b[0ma\u001b[0m\u001b[0;34m,\u001b[0m \u001b[0;34m'argmax'\u001b[0m\u001b[0;34m,\u001b[0m \u001b[0maxis\u001b[0m\u001b[0;34m=\u001b[0m\u001b[0maxis\u001b[0m\u001b[0;34m,\u001b[0m \u001b[0mout\u001b[0m\u001b[0;34m=\u001b[0m\u001b[0mout\u001b[0m\u001b[0;34m)\u001b[0m\u001b[0;34m\u001b[0m\u001b[0;34m\u001b[0m\u001b[0m\n\u001b[0m\u001b[1;32m   1104\u001b[0m \u001b[0;34m\u001b[0m\u001b[0m\n\u001b[1;32m   1105\u001b[0m \u001b[0;34m\u001b[0m\u001b[0m\n",
      "\u001b[0;32m/usr/local/lib/python3.6/dist-packages/numpy/core/fromnumeric.py\u001b[0m in \u001b[0;36m_wrapfunc\u001b[0;34m(obj, method, *args, **kwds)\u001b[0m\n\u001b[1;32m     64\u001b[0m     \u001b[0;31m# a downstream library like 'pandas'.\u001b[0m\u001b[0;34m\u001b[0m\u001b[0;34m\u001b[0m\u001b[0;34m\u001b[0m\u001b[0m\n\u001b[1;32m     65\u001b[0m     \u001b[0;32mexcept\u001b[0m \u001b[0;34m(\u001b[0m\u001b[0mAttributeError\u001b[0m\u001b[0;34m,\u001b[0m \u001b[0mTypeError\u001b[0m\u001b[0;34m)\u001b[0m\u001b[0;34m:\u001b[0m\u001b[0;34m\u001b[0m\u001b[0;34m\u001b[0m\u001b[0m\n\u001b[0;32m---> 66\u001b[0;31m         \u001b[0;32mreturn\u001b[0m \u001b[0m_wrapit\u001b[0m\u001b[0;34m(\u001b[0m\u001b[0mobj\u001b[0m\u001b[0;34m,\u001b[0m \u001b[0mmethod\u001b[0m\u001b[0;34m,\u001b[0m \u001b[0;34m*\u001b[0m\u001b[0margs\u001b[0m\u001b[0;34m,\u001b[0m \u001b[0;34m**\u001b[0m\u001b[0mkwds\u001b[0m\u001b[0;34m)\u001b[0m\u001b[0;34m\u001b[0m\u001b[0;34m\u001b[0m\u001b[0m\n\u001b[0m\u001b[1;32m     67\u001b[0m \u001b[0;34m\u001b[0m\u001b[0m\n\u001b[1;32m     68\u001b[0m \u001b[0;34m\u001b[0m\u001b[0m\n",
      "\u001b[0;32m/usr/local/lib/python3.6/dist-packages/numpy/core/fromnumeric.py\u001b[0m in \u001b[0;36m_wrapit\u001b[0;34m(obj, method, *args, **kwds)\u001b[0m\n\u001b[1;32m     44\u001b[0m     \u001b[0;32mexcept\u001b[0m \u001b[0mAttributeError\u001b[0m\u001b[0;34m:\u001b[0m\u001b[0;34m\u001b[0m\u001b[0;34m\u001b[0m\u001b[0m\n\u001b[1;32m     45\u001b[0m         \u001b[0mwrap\u001b[0m \u001b[0;34m=\u001b[0m \u001b[0;32mNone\u001b[0m\u001b[0;34m\u001b[0m\u001b[0;34m\u001b[0m\u001b[0m\n\u001b[0;32m---> 46\u001b[0;31m     \u001b[0mresult\u001b[0m \u001b[0;34m=\u001b[0m \u001b[0mgetattr\u001b[0m\u001b[0;34m(\u001b[0m\u001b[0masarray\u001b[0m\u001b[0;34m(\u001b[0m\u001b[0mobj\u001b[0m\u001b[0;34m)\u001b[0m\u001b[0;34m,\u001b[0m \u001b[0mmethod\u001b[0m\u001b[0;34m)\u001b[0m\u001b[0;34m(\u001b[0m\u001b[0;34m*\u001b[0m\u001b[0margs\u001b[0m\u001b[0;34m,\u001b[0m \u001b[0;34m**\u001b[0m\u001b[0mkwds\u001b[0m\u001b[0;34m)\u001b[0m\u001b[0;34m\u001b[0m\u001b[0;34m\u001b[0m\u001b[0m\n\u001b[0m\u001b[1;32m     47\u001b[0m     \u001b[0;32mif\u001b[0m \u001b[0mwrap\u001b[0m\u001b[0;34m:\u001b[0m\u001b[0;34m\u001b[0m\u001b[0;34m\u001b[0m\u001b[0m\n\u001b[1;32m     48\u001b[0m         \u001b[0;32mif\u001b[0m \u001b[0;32mnot\u001b[0m \u001b[0misinstance\u001b[0m\u001b[0;34m(\u001b[0m\u001b[0mresult\u001b[0m\u001b[0;34m,\u001b[0m \u001b[0mmu\u001b[0m\u001b[0;34m.\u001b[0m\u001b[0mndarray\u001b[0m\u001b[0;34m)\u001b[0m\u001b[0;34m:\u001b[0m\u001b[0;34m\u001b[0m\u001b[0;34m\u001b[0m\u001b[0m\n",
      "\u001b[0;32m/usr/local/lib/python3.6/dist-packages/numpy/core/numeric.py\u001b[0m in \u001b[0;36masarray\u001b[0;34m(a, dtype, order)\u001b[0m\n\u001b[1;32m    536\u001b[0m \u001b[0;34m\u001b[0m\u001b[0m\n\u001b[1;32m    537\u001b[0m     \"\"\"\n\u001b[0;32m--> 538\u001b[0;31m     \u001b[0;32mreturn\u001b[0m \u001b[0marray\u001b[0m\u001b[0;34m(\u001b[0m\u001b[0ma\u001b[0m\u001b[0;34m,\u001b[0m \u001b[0mdtype\u001b[0m\u001b[0;34m,\u001b[0m \u001b[0mcopy\u001b[0m\u001b[0;34m=\u001b[0m\u001b[0;32mFalse\u001b[0m\u001b[0;34m,\u001b[0m \u001b[0morder\u001b[0m\u001b[0;34m=\u001b[0m\u001b[0morder\u001b[0m\u001b[0;34m)\u001b[0m\u001b[0;34m\u001b[0m\u001b[0;34m\u001b[0m\u001b[0m\n\u001b[0m\u001b[1;32m    539\u001b[0m \u001b[0;34m\u001b[0m\u001b[0m\n\u001b[1;32m    540\u001b[0m \u001b[0;34m\u001b[0m\u001b[0m\n",
      "\u001b[0;32m/usr/local/lib/python3.6/dist-packages/torch/tensor.py\u001b[0m in \u001b[0;36m__array__\u001b[0;34m(self, dtype)\u001b[0m\n\u001b[1;32m    410\u001b[0m     \u001b[0;32mdef\u001b[0m \u001b[0m__array__\u001b[0m\u001b[0;34m(\u001b[0m\u001b[0mself\u001b[0m\u001b[0;34m,\u001b[0m \u001b[0mdtype\u001b[0m\u001b[0;34m=\u001b[0m\u001b[0;32mNone\u001b[0m\u001b[0;34m)\u001b[0m\u001b[0;34m:\u001b[0m\u001b[0;34m\u001b[0m\u001b[0;34m\u001b[0m\u001b[0m\n\u001b[1;32m    411\u001b[0m         \u001b[0;32mif\u001b[0m \u001b[0mdtype\u001b[0m \u001b[0;32mis\u001b[0m \u001b[0;32mNone\u001b[0m\u001b[0;34m:\u001b[0m\u001b[0;34m\u001b[0m\u001b[0;34m\u001b[0m\u001b[0m\n\u001b[0;32m--> 412\u001b[0;31m             \u001b[0;32mreturn\u001b[0m \u001b[0mself\u001b[0m\u001b[0;34m.\u001b[0m\u001b[0mnumpy\u001b[0m\u001b[0;34m(\u001b[0m\u001b[0;34m)\u001b[0m\u001b[0;34m\u001b[0m\u001b[0;34m\u001b[0m\u001b[0m\n\u001b[0m\u001b[1;32m    413\u001b[0m         \u001b[0;32melse\u001b[0m\u001b[0;34m:\u001b[0m\u001b[0;34m\u001b[0m\u001b[0;34m\u001b[0m\u001b[0m\n\u001b[1;32m    414\u001b[0m             \u001b[0;32mreturn\u001b[0m \u001b[0mself\u001b[0m\u001b[0;34m.\u001b[0m\u001b[0mnumpy\u001b[0m\u001b[0;34m(\u001b[0m\u001b[0;34m)\u001b[0m\u001b[0;34m.\u001b[0m\u001b[0mastype\u001b[0m\u001b[0;34m(\u001b[0m\u001b[0mdtype\u001b[0m\u001b[0;34m,\u001b[0m \u001b[0mcopy\u001b[0m\u001b[0;34m=\u001b[0m\u001b[0;32mFalse\u001b[0m\u001b[0;34m)\u001b[0m\u001b[0;34m\u001b[0m\u001b[0;34m\u001b[0m\u001b[0m\n",
      "\u001b[0;31mRuntimeError\u001b[0m: Can't call numpy() on Variable that requires grad. Use var.detach().numpy() instead."
     ]
    }
   ],
   "source": [
    "labels = model(x)\n",
    "print(labels)\n",
    "label = [np.argmax(i) for i in labels]\n",
    "# class_label = [inverse_map[x] for x in label]\n",
    "# print(class_label[:3])\n",
    "# submission = pd.DataFrame({ 'Image': test.Image, 'Class': class_label })\n",
    "# submission.head(10)\n",
    "# submission.to_csv('submission.csv', index=False)"
   ]
  },
  {
   "cell_type": "code",
   "execution_count": 111,
   "metadata": {},
   "outputs": [
    {
     "name": "stdout",
     "output_type": "stream",
     "text": [
      "<class 'torch.Tensor'> <class 'torch.Tensor'>\n",
      "torch.Size([3, 1, 16, 16]) torch.Size([3])\n",
      "labels:  Ankle Boot, Pullover, Trouser, "
     ]
    },
    {
     "data": {
      "image/png": "[encoded data removed]",
      "text/plain": [
       "<Figure size 1080x1440 with 1 Axes>"
      ]
     },
     "metadata": {
      "needs_background": "light"
     },
     "output_type": "display_data"
    }
   ],
   "source": [
    "demo_loader = torch.utils.data.DataLoader(dataset_val, batch_size=3)\n",
    "\n",
    "batch = next(iter(demo_loader))\n",
    "images, labels = batch\n",
    "print(type(images), type(labels))\n",
    "print(images.shape, labels.shape)\n",
    "\n",
    "grid = torchvision.utils.make_grid(images, nrow=10)\n",
    "\n",
    "plt.figure(figsize=(15, 20))\n",
    "plt.imshow(np.transpose(grid, (1, 2, 0)))\n",
    "print(\"labels: \", end=\" \")\n",
    "for i, label in enumerate(labels):\n",
    "    print(output_label(label), end=\", \")"
   ]
  }
 ],
 "metadata": {
  "kernelspec": {
   "display_name": "Python 3",
   "language": "python",
   "name": "python3"
  },
  "language_info": {
   "codemirror_mode": {
    "name": "ipython",
    "version": 3
   },
   "file_extension": ".py",
   "mimetype": "text/x-python",
   "name": "python",
   "nbconvert_exporter": "python",
   "pygments_lexer": "ipython3",
   "version": "3.6.8"
  }
 },
 "nbformat": 4,
 "nbformat_minor": 4
}
